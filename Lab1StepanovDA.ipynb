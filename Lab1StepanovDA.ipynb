{
 "cells": [
  {
   "cell_type": "markdown",
   "id": "732e2f16",
   "metadata": {},
   "source": [
    "# Лабораторная работа №1\n",
    "## Выполнил студент БФИ2001 Степанов Даниил Артемович\n",
    "### Задание 1 "
   ]
  },
  {
   "cell_type": "code",
   "execution_count": 1,
   "id": "e47f99a3",
   "metadata": {
    "scrolled": true
   },
   "outputs": [
    {
     "name": "stdout",
     "output_type": "stream",
     "text": [
      "Hello, World!\n"
     ]
    }
   ],
   "source": [
    "print(\"Hello, World!\")"
   ]
  },
  {
   "cell_type": "markdown",
   "id": "68960495",
   "metadata": {},
   "source": [
    "# Задание 2"
   ]
  },
  {
   "cell_type": "code",
   "execution_count": 2,
   "id": "425fe434",
   "metadata": {},
   "outputs": [
    {
     "data": {
      "text/plain": [
       "array([[ 64, 885,  14],\n",
       "       [887, 274, 259],\n",
       "       [625, 843, 606]])"
      ]
     },
     "execution_count": 2,
     "metadata": {},
     "output_type": "execute_result"
    }
   ],
   "source": [
    "import random\n",
    "import numpy as np\n",
    "\n",
    "m = 3\n",
    "n = 3\n",
    "variant = 19\n",
    "min_limit = -250\n",
    "max_limit = 1000 + variant\n",
    "\n",
    "np.random.randint(min_limit, max_limit, (m,n))"
   ]
  },
  {
   "cell_type": "code",
   "execution_count": 3,
   "id": "7f5e6217",
   "metadata": {},
   "outputs": [
    {
     "data": {
      "text/plain": [
       "array([[-89, 447, 361],\n",
       "       [340, 806, -74],\n",
       "       [679, -39, 396]])"
      ]
     },
     "execution_count": 3,
     "metadata": {},
     "output_type": "execute_result"
    }
   ],
   "source": [
    "import random\n",
    "import numpy as np\n",
    "\n",
    "m = 3\n",
    "n = 3\n",
    "variant = 19\n",
    "min_limit = -250\n",
    "max_limit = 1000 + variant\n",
    "\n",
    "np.random.randint(min_limit, max_limit, (m,n))"
   ]
  },
  {
   "cell_type": "markdown",
   "id": "652c94e0",
   "metadata": {},
   "source": [
    "# Задание 3\n",
    "# Сортировка ВЫБОРОМ"
   ]
  },
  {
   "cell_type": "code",
   "execution_count": 4,
   "id": "df8b0f3f",
   "metadata": {},
   "outputs": [
    {
     "name": "stdout",
     "output_type": "stream",
     "text": [
      "[97, 96, 10, 17, 73, 62, 48, 23, 34, 38]\n",
      "[10, 17, 23, 34, 38, 48, 62, 73, 96, 97]\n"
     ]
    }
   ],
   "source": [
    "from random import randint\n",
    " \n",
    " \n",
    "def sel_sort(array):\n",
    "    for i in range(len(array) - 1):\n",
    "        m = i\n",
    "        j = i + 1\n",
    "        while j < len(array):\n",
    "            if array[j] < array[m]:\n",
    "                m = j\n",
    "            j = j + 1\n",
    "        array[i], array[m] = array[m], array[i]\n",
    " \n",
    " \n",
    "a = []\n",
    "for i in range(10):\n",
    "    a.append(randint(1, 99))\n",
    " \n",
    "print(a)\n",
    "sel_sort(a)\n",
    "print(a)"
   ]
  },
  {
   "cell_type": "markdown",
   "id": "5d110876",
   "metadata": {},
   "source": [
    "# Сортировка ВСТАВКОЙ"
   ]
  },
  {
   "cell_type": "code",
   "execution_count": 5,
   "id": "fb74ec21",
   "metadata": {},
   "outputs": [
    {
     "name": "stdout",
     "output_type": "stream",
     "text": [
      "[80, 1, 16, 53, 59, 73, 55, 74, 9, 66]\n",
      "[1, 9, 16, 53, 55, 59, 66, 73, 74, 80]\n"
     ]
    }
   ],
   "source": [
    "from random import randint\n",
    "\n",
    "def insertion_sort(arr):\n",
    "    for i in range(1, len(arr)):\n",
    "        key = arr[i]\n",
    "        j = i-1\n",
    "        while j >=0 and key < arr[j] :\n",
    "            arr[j+1] = arr[j]\n",
    "            j -= 1\n",
    "        arr[j+1] = key \n",
    "        \n",
    "arr = []\n",
    "for i in range(10):\n",
    "    arr.append(randint(1, 99))\n",
    "    \n",
    "print(arr)\n",
    "insertion_sort(arr)\n",
    "print(arr)"
   ]
  },
  {
   "cell_type": "markdown",
   "id": "abb34b88",
   "metadata": {},
   "source": [
    "# Сортировка ОБМЕНОМ"
   ]
  },
  {
   "cell_type": "code",
   "execution_count": 6,
   "id": "b7fa12fa",
   "metadata": {},
   "outputs": [
    {
     "name": "stdout",
     "output_type": "stream",
     "text": [
      "[84, 47, 5, 87, 38, 18, 37, 96, 22, 60]\n",
      "[5, 18, 22, 37, 38, 47, 60, 84, 87, 96]\n"
     ]
    }
   ],
   "source": [
    "from random import randint\n",
    " \n",
    "def bubble(array):\n",
    "    for i in range(N-1):\n",
    "        for j in range(N-i-1):\n",
    "            if array[j] > array[j+1]:\n",
    "                buff = array[j]\n",
    "                array[j] = array[j+1]\n",
    "                array[j+1] = buff\n",
    " \n",
    "N = 10\n",
    "a = []\n",
    "for i in range(N):\n",
    "    a.append(randint(1, 99))\n",
    " \n",
    "print(a)\n",
    "bubble(a)\n",
    "print(a)"
   ]
  },
  {
   "cell_type": "markdown",
   "id": "ca783039",
   "metadata": {},
   "source": [
    "# Сортировка ШЕЛЛА"
   ]
  },
  {
   "cell_type": "code",
   "execution_count": 7,
   "id": "f7747eb5",
   "metadata": {},
   "outputs": [
    {
     "name": "stdout",
     "output_type": "stream",
     "text": [
      "[39, 96, 80, 20, 48, 53, 12, 83, 2, 85]\n",
      "[2, 12, 20, 39, 48, 53, 80, 83, 85, 96]\n"
     ]
    }
   ],
   "source": [
    "from random import randint\n",
    "\n",
    "def shellSort(array):\n",
    "    n = len(array)\n",
    "    k = int(math.log2(n))\n",
    "    interval = 2**k -1\n",
    "    while interval > 0:\n",
    "        for i in range(interval, n):\n",
    "            temp = array[i]\n",
    "            j = i\n",
    "            while j >= interval and array[j - interval] > temp:\n",
    "                array[j] = array[j - interval]\n",
    "                j -= interval\n",
    "            array[j] = temp\n",
    "        k -= 1\n",
    "        interval = 2**k -1\n",
    "    \n",
    "array = []\n",
    "for i in range(10):\n",
    "    array.append(randint(1, 99))\n",
    "\n",
    "print(array)\n",
    "bubble(array)\n",
    "print(array)"
   ]
  },
  {
   "cell_type": "markdown",
   "id": "379a06ed",
   "metadata": {},
   "source": [
    "# Быстрая сортировка(Хоара)"
   ]
  },
  {
   "cell_type": "code",
   "execution_count": 8,
   "id": "109fd558",
   "metadata": {},
   "outputs": [
    {
     "name": "stdout",
     "output_type": "stream",
     "text": [
      "[96, 68, 5, 17, 40, 90, 87, 61, 71, 75]\n"
     ]
    },
    {
     "data": {
      "text/plain": [
       "[5, 17, 40, 61, 68, 71, 75, 87, 90, 96]"
      ]
     },
     "execution_count": 8,
     "metadata": {},
     "output_type": "execute_result"
    }
   ],
   "source": [
    "nums = []\n",
    "for i in range(10):\n",
    "    nums.append(randint(1, 99))\n",
    "\n",
    "print(nums)\n",
    "\n",
    "def quicksort(nums):\n",
    "   if len(nums) <= 1:\n",
    "       return nums\n",
    "   else:\n",
    "       q = random.choice(nums)\n",
    "   l_nums = [n for n in nums if n < q]\n",
    " \n",
    "   e_nums = [q] * nums.count(q)\n",
    "   b_nums = [n for n in nums if n > q]\n",
    "   return quicksort(l_nums) + e_nums + quicksort(b_nums)\n",
    "\n",
    "quicksort(nums)\n"
   ]
  },
  {
   "cell_type": "markdown",
   "id": "95cd50c6",
   "metadata": {},
   "source": [
    "# Сортировка Пирамидальная "
   ]
  },
  {
   "cell_type": "code",
   "execution_count": 9,
   "id": "3c891408",
   "metadata": {},
   "outputs": [
    {
     "name": "stdout",
     "output_type": "stream",
     "text": [
      "[98, 98, 98, 32, 1, 2, 11, 39, 77, 2]\n",
      "[1, 2, 2, 11, 32, 39, 77, 98, 98, 98]\n"
     ]
    }
   ],
   "source": [
    "def heapsort(alist):\n",
    "    build_max_heap(alist)\n",
    "    for i in range(len(alist) - 1, 0, -1):\n",
    "        alist[0], alist[i] = alist[i], alist[0]\n",
    "        max_heapify(alist, index=0, size=i)\n",
    " \n",
    "def parent(i):\n",
    "    return (i - 1)//2\n",
    " \n",
    "def left(i):\n",
    "    return 2*i + 1\n",
    " \n",
    "def right(i):\n",
    "    return 2*i + 2\n",
    " \n",
    "def build_max_heap(alist):\n",
    "    length = len(alist)\n",
    "    start = parent(length - 1)\n",
    "    while start >= 0:\n",
    "        max_heapify(alist, index=start, size=length)\n",
    "        start = start - 1\n",
    " \n",
    "def max_heapify(alist, index, size):\n",
    "    l = left(index)\n",
    "    r = right(index)\n",
    "    if (l < size and alist[l] > alist[index]):\n",
    "        largest = l\n",
    "    else:\n",
    "        largest = index\n",
    "    if (r < size and alist[r] > alist[largest]):\n",
    "        largest = r\n",
    "    if (largest != index):\n",
    "        alist[largest], alist[index] = alist[index], alist[largest]\n",
    "        max_heapify(alist, largest, size)\n",
    " \n",
    " \n",
    "\n",
    "alist = []\n",
    "for i in range(10):\n",
    "    alist.append(randint(1, 99))\n",
    "    \n",
    "print(alist)\n",
    "\n",
    "heapsort(alist)\n",
    "\n",
    "\n",
    "print(alist)"
   ]
  },
  {
   "cell_type": "markdown",
   "id": "affb3dc1",
   "metadata": {},
   "source": [
    "# Сортировка ТУРНИРНАЯ"
   ]
  },
  {
   "cell_type": "code",
   "execution_count": 10,
   "id": "2971644f",
   "metadata": {},
   "outputs": [
    {
     "name": "stdout",
     "output_type": "stream",
     "text": [
      "[19, 95, 52, 40, 31, 81, 96, 91, 56, 82]\n",
      "[19, 31, 40, 52, 56, 81, 82, 91, 95, 96]\n"
     ]
    }
   ],
   "source": [
    "data = []\n",
    "for i in range(10):\n",
    "    data.append(randint(1, 99))\n",
    "print(data)\n",
    "\n",
    "def NHeapSort(data):\n",
    "\n",
    "    n = 3\n",
    "\n",
    "\n",
    "    for start in range(len(data), -1, -1):\n",
    "        NHeapSift(data, n, start, len(data) - 1) \n",
    "\n",
    "\n",
    "    for end in range(len(data) - 1, 0, -1): \n",
    "\n",
    "        data[end], data[0] = data[0], data[end]\n",
    "\n",
    "        NHeapSift(data, n, 0, end - 1)\n",
    "    return data\n",
    "    \n",
    "\n",
    "def NHeapSift(data, n, start, end):\n",
    "    \n",
    "\n",
    "    root = start \n",
    "\n",
    "    while True:\n",
    "        \n",
    "\n",
    "        child = root * n + 1\n",
    "        if child > end: \n",
    "            break \n",
    "\n",
    "        max = child\n",
    "        \n",
    "\n",
    "        for k in range(2, n + 1):\n",
    "            current = root * n + k\n",
    "            if current > end:\n",
    "                break\n",
    "                \n",
    "            if data[current] > data[max]:\n",
    "                max = current\n",
    "        \n",
    "        if data[root] < data[max]:\n",
    "            data[root], data[max] = data[max], data[root]\n",
    "            root = max\n",
    "        else:\n",
    "            break\n",
    "\n",
    "NHeapSort(data)\n",
    "print(data)"
   ]
  }
 ],
 "metadata": {
  "celltoolbar": "Редактировать метаданные",
  "kernelspec": {
   "display_name": "Python 3 (ipykernel)",
   "language": "python",
   "name": "python3"
  },
  "language_info": {
   "codemirror_mode": {
    "name": "ipython",
    "version": 3
   },
   "file_extension": ".py",
   "mimetype": "text/x-python",
   "name": "python",
   "nbconvert_exporter": "python",
   "pygments_lexer": "ipython3",
   "version": "3.10.2"
  }
 },
 "nbformat": 4,
 "nbformat_minor": 5
}
