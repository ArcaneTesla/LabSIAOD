{
 "cells": [
  {
   "cell_type": "markdown",
   "id": "fifteen-sailing",
   "metadata": {},
   "source": [
    "# Лабораторная работа №4\n",
    "## Выполнил студент группы БФИ2001 Степанов Даниил Артемович "
   ]
  },
  {
   "cell_type": "markdown",
   "id": "arctic-stocks",
   "metadata": {},
   "source": [
    "Реализовать следующие структуры данных:\n",
    "  \n",
    "● <b> Стек (stack): </b>  \n",
    "Операции для стека: \n",
    "<i> инициализация, проверка на пустоту, добавление нового элемента в начало, извлечение элемента из начала;  </i>  \n",
    "  \n",
    "● <b> Дек (двусторонняя очередь, deque):  </b>  \n",
    "Операции для дека: \n",
    "<i> инициализация, проверка на пустоту, добавление нового элемента в начало, добавление нового элемента в конец, извлечение элемента из начала, извлечение элемента из конца. </i>  \n",
    "  \n",
    "<i> Разработать программу обработки данных, содержащихся в заранее подготовленном txt-файле, в соответствии с заданиями, применив указанную в задании структуру данных. Результат работы программы вывести на экран и сохранить в отдельном txt-файле. </i>"
   ]
  },
  {
   "cell_type": "code",
   "execution_count": 2,
   "id": "c59af3ee",
   "metadata": {},
   "outputs": [],
   "source": [
    "#Класс Стека\n",
    "\n",
    "class Stack():\n",
    "    def __init__(self):\n",
    "        self.elements = []\n",
    "        \n",
    "    def isEmpty(self):\n",
    "        return self.elements == []\n",
    "        \n",
    "    def push(self, el):\n",
    "        self.elements.insert(0, el)\n",
    "        \n",
    "    def pop(self):\n",
    "        if (self.isEmpty()):\n",
    "            return None\n",
    "        else:\n",
    "            return self.elements.pop(0)\n",
    "        \n",
    "    def get(self):\n",
    "        if (self.isEmpty()):\n",
    "            return None\n",
    "        else:\n",
    "            return self.elements[0]\n",
    "        \n",
    "    def printStack(self):\n",
    "        for el in self.elements:\n",
    "            print(el, end=' ')\n",
    "            \n",
    "        print()"
   ]
  },
  {
   "cell_type": "code",
   "execution_count": 3,
   "id": "de3d25cd",
   "metadata": {},
   "outputs": [],
   "source": [
    "#Класс Дека\n",
    "\n",
    "class Deque():\n",
    "    def __init__(self, arr=[]):\n",
    "        self.elements = arr\n",
    "        \n",
    "    def isEmpty(self):\n",
    "        return self.elements == []\n",
    "        \n",
    "    def pushRight(self, el):\n",
    "        self.elements.append(el)\n",
    "        \n",
    "    def popRight(self):\n",
    "        if (self.isEmpty()):\n",
    "            return None\n",
    "        else:\n",
    "            return self.elements.pop()\n",
    "    \n",
    "    def pushLeft(self, el):\n",
    "        self.elements.insert(0, el)\n",
    "        \n",
    "    def popLeft(self):\n",
    "        if (self.isEmpty()):\n",
    "            return None\n",
    "        else:\n",
    "            return self.elements.pop(0)\n",
    "        \n",
    "    def isEmpty(self):\n",
    "        return self.elements == []    \n",
    "    \n",
    "    def getLeft(self):\n",
    "        if (self.isEmpty()):\n",
    "            return None\n",
    "        else:\n",
    "            return self.elements[-1]\n",
    "    \n",
    "    def getRight(self):\n",
    "        if (self.isEmpty()):\n",
    "            return None\n",
    "        else:\n",
    "            return self.elements[0]\n",
    "        \n",
    "    def printDeq(self):\n",
    "        for el in self.elements:\n",
    "            print(el, end=' ')     \n",
    "        print()\n",
    "        "
   ]
  },
  {
   "cell_type": "markdown",
   "id": "5d7edb08",
   "metadata": {
    "scrolled": true
   },
   "source": [
    "### Задание №1\n",
    "Отсортировать строки файла, содержащие названия книг, в алфавитном порядке с использованием двух деков."
   ]
  },
  {
   "cell_type": "code",
   "execution_count": 5,
   "id": "17702ade",
   "metadata": {
    "scrolled": true
   },
   "outputs": [
    {
     "name": "stdout",
     "output_type": "stream",
     "text": [
      "1984\n",
      " Арифметика для самых маленьких\n",
      " Автостопом по галактике\n",
      " Азбука\n",
      " Калибр\n",
      " Как завоевать друзей\n",
      " Остров сокровищ\n",
      " Робинзон\n",
      " Укус питона \n"
     ]
    }
   ],
   "source": [
    "filename = \"txt/ex1.txt\"\n",
    "\n",
    "with open(filename, mode='r', encoding='utf-8') as f:\n",
    "    deq1 = Deque(arr=f.readlines())\n",
    "    deq2 = Deque(arr=[])\n",
    "    \n",
    "    f_sorted = True\n",
    "    \n",
    "    el = deq1.popLeft()\n",
    "    deq2.pushLeft(el)\n",
    "    \n",
    "    while (not deq1.isEmpty()):\n",
    "        el = deq1.popLeft()\n",
    "        if (ord(deq2.getLeft()[0]) <= ord(el[0])):\n",
    "            deq2.pushRight(el)\n",
    "                \n",
    "        else:\n",
    "            deq2.pushLeft(el)\n",
    "            f_sorted = False\n",
    "            \n",
    "        if (f_sorted == False and deq1.isEmpty()):\n",
    "            deq1, deq2 = deq2, Deque(arr=[])\n",
    "            el = deq1.popLeft()\n",
    "            deq2.pushLeft(el)\n",
    "            f_sorted = True\n",
    "\n",
    "    deq2.printDeq()"
   ]
  },
  {
   "cell_type": "markdown",
   "id": "49fbd2a0",
   "metadata": {},
   "source": [
    "### Задание №2\n",
    "Дек содержит последовательность символов для шифровки сообщений. Дан текстовый файл, содержащий зашифрованное сообщение. Пользуясь деком, расшифровать текст. \n",
    "Известно, что при шифровке каждый символ сообщения заменялся следующим за ним в деке по часовой стрелке через один."
   ]
  },
  {
   "cell_type": "code",
   "execution_count": 7,
   "id": "81cab7a8",
   "metadata": {},
   "outputs": [
    {
     "name": "stdout",
     "output_type": "stream",
     "text": [
      "donut\n"
     ]
    }
   ],
   "source": [
    "filename = \"txt/ex2.txt\"\n",
    "\n",
    "def decrypt(c_text, keyDeq):\n",
    "    decr_text = c_text\n",
    "    \n",
    "    for i in range(len(decr_text)):\n",
    "        encrypted = False\n",
    "        \n",
    "        while (not encrypted):\n",
    "            deq_s = keyDeq.popRight()\n",
    "            keyDeq.pushLeft(deq_s)\n",
    "            \n",
    "            if(decr_text[i] == deq_s):\n",
    "                for j in range(2):\n",
    "                    temp = keyDeq.popRight()\n",
    "                    keyDeq.pushLeft(temp)\n",
    "                    \n",
    "                decr_text[i] = temp\n",
    "                encrypted = True\n",
    "                \n",
    "    return decr_text\n",
    "\n",
    "with open(filename, mode='r', encoding='utf-8') as f:\n",
    "    keyDeq = Deque([])\n",
    "    \n",
    "    # Алфафит для шифровки\n",
    "    for i in range(97, 123):\n",
    "        keyDeq.pushRight(chr(i))\n",
    "    \n",
    "    c_text = list(f.readline())\n",
    "    \n",
    "    decr_text = decrypt(c_text, keyDeq)    \n",
    "    \n",
    "    print(\"\".join(decr_text))"
   ]
  },
  {
   "cell_type": "markdown",
   "id": "c0894f47",
   "metadata": {},
   "source": [
    "### Задание №3\n",
    "Даны три стержня и n дисков различного размера. Диски можно надевать на стержни, образуя из них башни. Перенести n дисков со стержня А на стержень С, сохранив их первоначальный порядок. При переносе дисков необходимо соблюдать следующие правила:\n",
    "- на каждом шаге со стержня на стержень переносить только один диск;\n",
    "- диск нельзя помещать на диск меньшего размера;\n",
    "- для промежуточного хранения можно использовать стержень В.\n",
    "Реализовать алгоритм, используя три стека вместо стержней А, В, С. Информация о дисках хранится в исходном файле."
   ]
  },
  {
   "cell_type": "code",
   "execution_count": 10,
   "id": "9e91a9d4",
   "metadata": {},
   "outputs": [
    {
     "name": "stdout",
     "output_type": "stream",
     "text": [
      "1 2 3 4 5 6 \n",
      "Rod A:  \n",
      "Rod B:  \n",
      "Rod C:  1 2 3 4 5 6 \n"
     ]
    }
   ],
   "source": [
    "filename = \"txt/ex3.txt\"\n",
    "\n",
    "def moveDisk(fromRod, toRod):\n",
    "    toRod.push(fromRod.pop())\n",
    "\n",
    "# Ханойская башенка\n",
    "# Рекурсивно перемещаем диски с 1 стержня на 3 через 2 \n",
    "def ToH(height, fromRod, midRod, toRod):\n",
    "\n",
    "    if (height >= 1):\n",
    "        # Перемещаем все диски, кроме нижнего с 1 на 2 стержень\n",
    "        ToH(height - 1, fromRod, toRod, midRod)\n",
    "        moveDisk(fromRod, toRod)\n",
    "        \n",
    "        ToH(height - 1, midRod, fromRod, toRod)\n",
    "\n",
    "with open(filename, mode='r', encoding='utf-8') as f:\n",
    "\n",
    "    roda = Stack()\n",
    "    \n",
    "    disks = f.readlines()\n",
    "    for i in disks:\n",
    "        roda.push(int(i))\n",
    "        \n",
    "    roda.printStack()\n",
    "    \n",
    "    rodb = Stack()\n",
    "    rodc = Stack()\n",
    "    \n",
    "    ToH(len(disks), roda, rodb, rodc)\n",
    "        \n",
    "    print(\"Rod A: \", end=' ')\n",
    "    roda.printStack()\n",
    "    \n",
    "    print(\"Rod B: \", end=' ')\n",
    "    rodb.printStack()\n",
    "    \n",
    "    print(\"Rod C: \", end=' ')\n",
    "    rodc.printStack()"
   ]
  },
  {
   "cell_type": "markdown",
   "id": "e5b0be17",
   "metadata": {},
   "source": [
    "### Задание №4\n",
    "Дан текстовый файл с программой на алгоритмическом языке. За один просмотр файла проверить баланс круглых скобок в тексте, используя стек."
   ]
  },
  {
   "cell_type": "code",
   "execution_count": 11,
   "id": "5b1df60a",
   "metadata": {},
   "outputs": [
    {
     "name": "stdout",
     "output_type": "stream",
     "text": [
      "Скобки в порядке\n"
     ]
    }
   ],
   "source": [
    "filename = \"txt/ex4.txt\"\n",
    "\n",
    "def roundParBalance(pars):\n",
    "    i = 0\n",
    "    while (not pars.isEmpty()):\n",
    "        par = pars.pop()\n",
    "        \n",
    "        if (par == ')'):\n",
    "            i += 1\n",
    "        else:\n",
    "            i -= 1\n",
    "            \n",
    "    if (i == 0):\n",
    "        return True\n",
    "    else:\n",
    "        return False\n",
    "        \n",
    "\n",
    "with open(filename, mode='r', encoding='utf-8') as f:\n",
    "\n",
    "    pars = Stack()\n",
    "    \n",
    "    code = f.read()\n",
    "    \n",
    "    for i in code:\n",
    "        if (i == '(' or i == ')'):\n",
    "            pars.push(i)\n",
    "    \n",
    "    if (roundParBalance(pars)):\n",
    "        print(\"Скобки в порядке\")\n",
    "    else:\n",
    "        print(\"Нарушена целостность кода\")"
   ]
  },
  {
   "cell_type": "markdown",
   "id": "c44cdd6b",
   "metadata": {},
   "source": [
    "### Задание №5\n",
    "Дан текстовый файл с программой на алгоритмическом языке. За один просмотр файла проверить баланс квадратных скобок в тексте, используя дек."
   ]
  },
  {
   "cell_type": "code",
   "execution_count": 13,
   "id": "36b8f400",
   "metadata": {},
   "outputs": [
    {
     "name": "stdout",
     "output_type": "stream",
     "text": [
      "Нарушена целостность кода\n"
     ]
    }
   ],
   "source": [
    "filename = \"txt/ex5.txt\"\n",
    "\n",
    "def squareParBalance(pars):\n",
    "    i = 0\n",
    "    while (not pars.isEmpty()):\n",
    "        par = pars.popRight()\n",
    "        \n",
    "        if (par == ']'):\n",
    "            i += 1\n",
    "        else:\n",
    "            i -= 1\n",
    "            \n",
    "    if (i == 0):\n",
    "        return True\n",
    "    else:\n",
    "        return False\n",
    "        \n",
    "\n",
    "with open(filename, mode='r', encoding='utf-8') as f:\n",
    "\n",
    "    pars = Deque()\n",
    "    \n",
    "    code = f.read()\n",
    "    \n",
    "    for i in code:\n",
    "        if (i == '[' or i == ']'):\n",
    "            pars.pushRight(i)\n",
    "    \n",
    "    if (squareParBalance(pars)):\n",
    "        print(\"Скобки в порядке\")\n",
    "    else:\n",
    "        print(\"Нарушена целостность кода\")"
   ]
  },
  {
   "cell_type": "markdown",
   "id": "59d13dc7",
   "metadata": {},
   "source": [
    "### Задание №6\n",
    "Дан файл из символов. Используя стек, за один просмотр файла напечатать сначала все цифры, затем все буквы, и, наконец, все остальные символы, сохраняя исходный порядок в каждой группе символов."
   ]
  },
  {
   "cell_type": "code",
   "execution_count": 14,
   "id": "297e36c2",
   "metadata": {},
   "outputs": [
    {
     "name": "stdout",
     "output_type": "stream",
     "text": [
      "0 9 0 1 2 3 9 0 1 0 9 2 5 4 5 2 3 0 \n",
      "a b c \n",
      ") ( ( ( , ( ( ( ) \n"
     ]
    }
   ],
   "source": [
    "filename = \"txt/ex6.txt\"\n",
    "\n",
    "with open(filename, mode='r', encoding='utf-8') as f:\n",
    "    stack_dig = Stack()\n",
    "    stack_let = Stack()\n",
    "    stack_symbs = Stack()\n",
    "    \n",
    "    strings1 = f.read()\n",
    "    strings1 = strings1[::-1]\n",
    "    \n",
    "    for i in strings1:\n",
    "        if (96 < ord(i) < 124):\n",
    "            stack_let.push(i)\n",
    "        elif (47 < ord(i) < 58):\n",
    "            stack_dig.push(i)\n",
    "        else:\n",
    "            stack_symbs.push(i)\n",
    "            \n",
    "    stack_dig.printStack()\n",
    "    stack_let.printStack()\n",
    "    stack_symbs.printStack()"
   ]
  },
  {
   "cell_type": "markdown",
   "id": "973f68bd",
   "metadata": {},
   "source": [
    "### Задание №7\n",
    "Дан файл из целых чисел. Используя дек, за один просмотр файла напечатать сначала все отрицательные числа, затем все положительные числа, сохраняя исходный порядок в каждой группе."
   ]
  },
  {
   "cell_type": "code",
   "execution_count": 15,
   "id": "c56fad66",
   "metadata": {},
   "outputs": [
    {
     "name": "stdout",
     "output_type": "stream",
     "text": [
      "-1 -10 -4 3 2 5 \n"
     ]
    }
   ],
   "source": [
    "filename = \"txt/ex7.txt\"\n",
    "\n",
    "with open(filename, mode='r', encoding='utf-8') as f:\n",
    "    deq = Deque(arr=[])\n",
    "    \n",
    "    strings2 = f.readlines()\n",
    "    \n",
    "    for i in strings2:\n",
    "        if (int(i) > 0):\n",
    "            deq.pushRight(int(i))\n",
    "        else:\n",
    "            print(int(i), end=' ')\n",
    "            \n",
    "    deq.printDeq()"
   ]
  },
  {
   "cell_type": "markdown",
   "id": "b9228191",
   "metadata": {},
   "source": [
    "### Задание №8\n",
    "Дан текстовый файл. Используя стек, сформировать новый текстовый файл, содержащий строки исходного файла, записанные в обратном порядке: первая строка становится последней, вторая – предпоследней и т.д."
   ]
  },
  {
   "cell_type": "code",
   "execution_count": 18,
   "id": "981fbdfe",
   "metadata": {},
   "outputs": [],
   "source": [
    "filename = \"txt/ex8.txt\"\n",
    "\n",
    "with open(filename, mode='r', encoding='utf-8') as f:\n",
    "    stc = Stack()\n",
    "    \n",
    "    strings = f.readlines()\n",
    "\n",
    "    for i in strings:\n",
    "        stc.push(i)\n",
    "\n",
    "    filename_out = \"txt/ex8out.txt\"\n",
    "    \n",
    "    with open(filename_out, mode='w', encoding='utf-8') as f_out:\n",
    "        while (not stc.isEmpty()):\n",
    "            f_out.write(stc.pop())"
   ]
  },
  {
   "cell_type": "markdown",
   "id": "rental-jerusalem",
   "metadata": {},
   "source": [
    "### Вывод\n"
   ]
  },
  {
   "cell_type": "markdown",
   "id": "0c2b8899",
   "metadata": {},
   "source": []
  }
 ],
 "metadata": {
  "kernelspec": {
   "display_name": "Python 3 (ipykernel)",
   "language": "python",
   "name": "python3"
  },
  "language_info": {
   "codemirror_mode": {
    "name": "ipython",
    "version": 3
   },
   "file_extension": ".py",
   "mimetype": "text/x-python",
   "name": "python",
   "nbconvert_exporter": "python",
   "pygments_lexer": "ipython3",
   "version": "3.10.2"
  }
 },
 "nbformat": 4,
 "nbformat_minor": 5
}
