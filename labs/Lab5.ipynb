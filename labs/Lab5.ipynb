{
 "cells": [
  {
   "cell_type": "markdown",
   "metadata": {
    "id": "WPvB9TcMmKA6"
   },
   "source": [
    "# Лабораторная работа №5\n",
    "# Рекурсия. Фракталы."
   ]
  },
  {
   "cell_type": "markdown",
   "metadata": {
    "id": "96Gi_LEvmSVH"
   },
   "source": [
    "## Выполнил студент группы БФИ2001 Степанов Даниил Артемович\n",
    "***"
   ]
  },
  {
   "cell_type": "markdown",
   "metadata": {
    "id": "4clYOyb0mbEv"
   },
   "source": [
    "### Задание:\n",
    "Реализовать генерацию заданного типа фрактала с применением рекурсивных функций.\n",
    "\n",
    "\n",
    "Добавить возможность задания глубины фрактала. \n",
    "\n",
    "\n",
    "Оценить глубину рекурсии. \n",
    "\n",
    "\n",
    "Построить таблицу зависимости времени построения от глубины фрактала."
   ]
  },
  {
   "cell_type": "markdown",
   "metadata": {
    "id": "wDXHbUmMmhRL"
   },
   "source": [
    "### Список фракталов:\n",
    "\n",
    "Кривая Коха\n",
    "| Кривая Гильберта\n",
    "| Кривая Серпинского\n",
    "| Салфетка Серпинского\n",
    "| Ковер Серпинского\n",
    "| Дерево Пифагора "
   ]
  },
  {
   "cell_type": "markdown",
   "metadata": {
    "id": "Wggfn8l7nG72"
   },
   "source": [
    "### Выполнение:"
   ]
  },
  {
   "cell_type": "code",
   "execution_count": 4,
   "metadata": {
    "id": "681a95mZnOSa"
   },
   "outputs": [],
   "source": [
    "import turtle\n"
   ]
  },
  {
   "cell_type": "markdown",
   "metadata": {},
   "source": [
    "# Кривая Коха"
   ]
  },
  {
   "cell_type": "code",
   "execution_count": 6,
   "metadata": {},
   "outputs": [
    {
     "name": "stdout",
     "output_type": "stream",
     "text": [
      "Введите глубину Кривой Коха: 4\n",
      "Глубина рекурсии равна 16\n"
     ]
    }
   ],
   "source": [
    "#Кривая Коха\n",
    "\n",
    "#рекурсивных функция для Кривой Коха\n",
    "def koch_curve(size, n):\n",
    "    if n == 0:\n",
    "        turtle.forward(size)\n",
    "    else:\n",
    "        koch_curve(size / 3, n - 1)\n",
    "        turtle.left(60)\n",
    "        koch_curve(size / 3, n - 1)\n",
    "        turtle.right(120)\n",
    "        koch_curve(size / 3, n - 1)\n",
    "        turtle.left(60)\n",
    "        koch_curve(size / 3, n - 1)\n",
    "\n",
    " \n",
    "level = int(input(\"Введите глубину Кривой Коха: \")) \n",
    "size = 300\n",
    "print(\"Глубина рекурсии равна 16\")\n",
    "turtle.speed('fastest')\n",
    "koch_curve(size, level)\n",
    "turtle.done()"
   ]
  },
  {
   "cell_type": "markdown",
   "metadata": {},
   "source": [
    "# Кривая Гильберта"
   ]
  },
  {
   "cell_type": "code",
   "execution_count": 2,
   "metadata": {},
   "outputs": [
    {
     "name": "stdout",
     "output_type": "stream",
     "text": [
      "Введите глубину Кривой Гильберта: 3\n"
     ]
    }
   ],
   "source": [
    "# Кривая Гильберта\n",
    "\n",
    "#рекурсивных функция для Кривая Гильберта\n",
    "def curve_hilbert(lvl, n, s):\n",
    "    if (lvl == 0):\n",
    "        turtle.forward(s)\n",
    "        return\n",
    "\n",
    "    turtle.right(n)\n",
    "    curve_hilbert(lvl - 1, -n, s)\n",
    "\n",
    "    turtle.forward(s)\n",
    "    turtle.left(n)\n",
    "    curve_hilbert(lvl - 1, n, s)\n",
    "\n",
    "    turtle.forward(s)\n",
    "    curve_hilbert(lvl - 1, n, s)\n",
    "\n",
    "    turtle.left(n)\n",
    "    turtle.forward(s)\n",
    "    curve_hilbert(lvl - 1, -n, s)\n",
    "    turtle.right(n)\n",
    "\n",
    "\n",
    "\n",
    "level = int(input(\"Введите глубину Кривой Гильберта: \"))\n",
    "size = 100\n",
    "print(\"Глубина рекурсии равна 16\")\n",
    "turtle.speed('fastest')\n",
    "curve_hilbert(level, 90, size / (2**(level-1)))\n",
    "turtle.done()"
   ]
  },
  {
   "cell_type": "markdown",
   "metadata": {},
   "source": [
    "# Кривая Серпинского"
   ]
  },
  {
   "cell_type": "code",
   "execution_count": 5,
   "metadata": {
    "scrolled": true
   },
   "outputs": [
    {
     "name": "stdout",
     "output_type": "stream",
     "text": [
      "Введите глубину Кривой Серпинского: 3\n"
     ]
    }
   ],
   "source": [
    "# Кривая Серпинского с использованием L-системы\n",
    "import turtle\n",
    "\n",
    "def curve_serpinskogo(lvl, max_lvl, ls):\n",
    "    if lvl == max_lvl:\n",
    "        return ls\n",
    "    else:\n",
    "        newls = ''\n",
    "        for i in ls:\n",
    "            if i == '-':\n",
    "                newls += '-'\n",
    "            elif i == '+':\n",
    "                newls += '+'\n",
    "            elif i == 'F':\n",
    "                newls += 'F'\n",
    "            elif i == 'X':\n",
    "                newls += 'XF-F+F-XF+F+XF-F+F-X'\n",
    "\n",
    "        ls = newls\n",
    "\n",
    "        return curve_serpinskogo(lvl + 1, max_lvl, ls)\n",
    "\n",
    "turtle.speed('fastest')\n",
    "\n",
    "max_level = int(input(\"Введите глубину Кривой Серпинского: \"))\n",
    "\n",
    "sizeF = 20\n",
    "angle = 90\n",
    "L_system = \"F+XF+F+XF\"\n",
    "\n",
    "curve_serpinskogo_ls = curve_serpinskogo(1, max_level, L_system)\n",
    "\n",
    "for i in curve_serpinskogo_ls:\n",
    "    if i == '-':\n",
    "        turtle.right(angle)\n",
    "    elif i == \"+\":\n",
    "        turtle.left(angle)\n",
    "    elif i == \"F\":\n",
    "        turtle.forward(sizeF)\n",
    "        \n",
    "turtle.done()"
   ]
  },
  {
   "cell_type": "markdown",
   "metadata": {},
   "source": [
    "# Салфетка Серпинского"
   ]
  },
  {
   "cell_type": "code",
   "execution_count": 9,
   "metadata": {},
   "outputs": [
    {
     "name": "stdout",
     "output_type": "stream",
     "text": [
      "Введите глубину Салфетки Серпинского: 5\n"
     ]
    }
   ],
   "source": [
    "# Салфетка Серпинского\n",
    "\n",
    "#рекурсивных функция для Салфетки Серпинского\n",
    "def salfetka_serpinskogo(lvl, s):\n",
    "    if lvl == 0:\n",
    "        for _ in range(3):\n",
    "            turtle.forward(s)\n",
    "            turtle.left(120)\n",
    "        return\n",
    "\n",
    "    salfetka_serpinskogo(lvl - 1, s)\n",
    "    turtle.forward(s * 2**(lvl-1))\n",
    "    \n",
    "    salfetka_serpinskogo(lvl - 1, s)\n",
    "    turtle.left(120)\n",
    "    turtle.forward(s * 2**(lvl-1))\n",
    "    turtle.right(120)\n",
    "    \n",
    "    salfetka_serpinskogo(lvl - 1, s)\n",
    "    turtle.right(120)\n",
    "    turtle.forward(s * 2**(lvl-1))\n",
    "    turtle.left(120)\n",
    "\n",
    "\n",
    "turtle.speed('fastest')\n",
    "\n",
    "level = int(input(\"Введите глубину Салфетки Серпинского: \"))\n",
    "size = 200\n",
    "print(\"Глубина рекурсии равна 9\")\n",
    "salfetka_serpinskogo(level, size / 2**level)\n",
    "\n",
    "turtle.done()"
   ]
  },
  {
   "cell_type": "markdown",
   "metadata": {},
   "source": [
    "# Ковер Серпинского\n"
   ]
  },
  {
   "cell_type": "code",
   "execution_count": 8,
   "metadata": {
    "scrolled": true
   },
   "outputs": [
    {
     "name": "stdout",
     "output_type": "stream",
     "text": [
      "Введите глубину ковра Серпинского: 1\n"
     ]
    }
   ],
   "source": [
    "# Ковер Серпинского\n",
    "\n",
    "#рекурсивных функция для Салфетки Серпинского\n",
    "def carpet_serpinskogo(lvl, s):\n",
    "    if lvl == 0:\n",
    "        # Для закрашивания квадратов\n",
    "        turtle.begin_fill()\n",
    "        \n",
    "        for _ in range(4):\n",
    "            turtle.forward(s)\n",
    "            turtle.left(90)\n",
    "    \n",
    "        turtle.end_fill()\n",
    "        \n",
    "        return\n",
    "    else:\n",
    "\n",
    "        for i in range(4):\n",
    "            carpet_serpinskogo(lvl - 1, s // 3)\n",
    "            turtle.forward(s / 3)\n",
    "\n",
    "            carpet_serpinskogo(lvl - 1, s // 3)\n",
    "            turtle.forward(s / 3)\n",
    "\n",
    "            turtle.forward(s / 3)\n",
    "            turtle.left(90)\n",
    "\n",
    "\n",
    "\n",
    "turtle.speed('fastest')\n",
    "\n",
    "level = int(input(\"Введите глубину ковра Серпинского: \"))\n",
    "size = 200\n",
    "print(\"Глубина рекурсии равна 4\")\n",
    "carpet_serpinskogo(level, size)\n",
    "\n",
    "turtle.done()"
   ]
  },
  {
   "cell_type": "markdown",
   "metadata": {},
   "source": [
    "# Дерево Пифагора\n"
   ]
  },
  {
   "cell_type": "code",
   "execution_count": 7,
   "metadata": {
    "scrolled": true
   },
   "outputs": [
    {
     "name": "stdout",
     "output_type": "stream",
     "text": [
      "Введите глубину Дерева Пифагора: 10\n"
     ]
    }
   ],
   "source": [
    "#Дерево Пифагора\n",
    "\n",
    "#рекурсивных функция для Дерева Пифагора\n",
    "def tree_pythagoras(turtle, l, s):\n",
    "    if (l == 0):\n",
    "        for _ in range(4):\n",
    "            turtle.forward(s)\n",
    "            turtle.right(90)\n",
    "        return\n",
    "\n",
    "    for _ in range(4):\n",
    "        turtle.forward(s)\n",
    "        turtle.right(90)\n",
    "\n",
    "    turtle.forward(s)\n",
    "    another_turtle = turtle.clone()\n",
    "    turtle.left(45)\n",
    "    tree_pythagoras(turtle, l - 1, (s * 2**(1/2)) / 2)\n",
    "\n",
    "    another_turtle.right(45)\n",
    "    another_turtle.forward((s * 2**(1/2)) / 2)\n",
    "    tree_pythagoras(another_turtle, l - 1, (s * 2 ** (1 / 2)) / 2)\n",
    "\n",
    "\n",
    "\n",
    "turtle.speed('fastest')\n",
    "turtle.hideturtle()\n",
    "level = int(input(\"Введите глубину Дерева Пифагора: \"))\n",
    "step = 100\n",
    "print(\"Глубина рекурсии равна 9\")\n",
    "\n",
    "turtle.left(90)\n",
    "tree_pythagoras(turtle, level, step)\n",
    "\n",
    "turtle.done()"
   ]
  },
  {
   "cell_type": "markdown",
   "metadata": {
    "id": "diOb-K7LnO5a"
   },
   "source": [
    "### Вывод"
   ]
  }
 ],
 "metadata": {
  "colab": {
   "collapsed_sections": [],
   "name": "Lab5.ipynb",
   "provenance": []
  },
  "kernelspec": {
   "display_name": "Python 3 (ipykernel)",
   "language": "python",
   "name": "python3"
  },
  "language_info": {
   "codemirror_mode": {
    "name": "ipython",
    "version": 3
   },
   "file_extension": ".py",
   "mimetype": "text/x-python",
   "name": "python",
   "nbconvert_exporter": "python",
   "pygments_lexer": "ipython3",
   "version": "3.10.2"
  }
 },
 "nbformat": 4,
 "nbformat_minor": 1
}
