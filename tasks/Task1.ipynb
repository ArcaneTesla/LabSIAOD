{
 "cells": [
  {
   "cell_type": "markdown",
   "id": "244314fb",
   "metadata": {},
   "source": [
    "# Задание 1"
   ]
  },
  {
   "cell_type": "markdown",
   "id": "64630386",
   "metadata": {},
   "source": [
    "Даны две строки: `s1` и `s2` с одинаковым размером.\n",
    "\n",
    "Проверьте, может ли некоторая перестановка строки `s1` “победить” некоторую перестановку строки `s2` или наоборот.\n",
    "\n",
    "Строка x может “победить” строку y (обе имеют размер n), если `x[i] >= y[i]` (в алфавитном порядке) для всех i от 0 до n-1.\n"
   ]
  },
  {
   "cell_type": "markdown",
   "id": "cf51dab2",
   "metadata": {},
   "source": [
    "## Ввод"
   ]
  },
  {
   "cell_type": "markdown",
   "id": "d697a747",
   "metadata": {},
   "source": [
    "`abc`\n",
    "`xya`"
   ]
  },
  {
   "cell_type": "markdown",
   "id": "50b10a2e",
   "metadata": {},
   "source": [
    "## Вывод"
   ]
  },
  {
   "cell_type": "markdown",
   "id": "55442a49",
   "metadata": {},
   "source": [
    "`True`\n",
    "\n",
    "### Исполняемый код записать в ячейку ниже:"
   ]
  },
  {
   "cell_type": "code",
   "execution_count": 23,
   "id": "3b0d440a",
   "metadata": {},
   "outputs": [
    {
     "data": {
      "text/plain": [
       "False"
      ]
     },
     "execution_count": 23,
     "metadata": {},
     "output_type": "execute_result"
    }
   ],
   "source": [
    "s1 = [i for i in input()]\n",
    "s2 = [i for i in input()]\n",
    "s1.sort(reverse = True)\n",
    "s2.sort()\n",
    "ans = False\n",
    "for i in range(len(s1)):\n",
    "    if s1[i] != s2[i]:\n",
    "        ans = s1[i] > s2[i]\n",
    "        break\n",
    "print(ans)    "
   ]
  },
  {
   "cell_type": "markdown",
   "id": "b3a969a6",
   "metadata": {},
   "source": [
    "# Задание 2"
   ]
  },
  {
   "cell_type": "markdown",
   "id": "9c1ce05d",
   "metadata": {},
   "source": [
    "Дана строка `s`, вернуть самую длинную полиндромную подстроку в `s`."
   ]
  },
  {
   "cell_type": "markdown",
   "id": "20415c0e",
   "metadata": {},
   "source": [
    "## Ввод"
   ]
  },
  {
   "cell_type": "markdown",
   "id": "e77fcb44",
   "metadata": {},
   "source": [
    "`babad`"
   ]
  },
  {
   "cell_type": "markdown",
   "id": "49996449",
   "metadata": {},
   "source": [
    "## Вывод"
   ]
  },
  {
   "cell_type": "markdown",
   "id": "75be2464",
   "metadata": {},
   "source": [
    "`aba` или `bab`"
   ]
  },
  {
   "cell_type": "markdown",
   "id": "12ef9771",
   "metadata": {},
   "source": [
    "## Исполняемый код записывать в ячейку ниже"
   ]
  },
  {
   "cell_type": "code",
   "execution_count": 31,
   "id": "3f06c4fc",
   "metadata": {},
   "outputs": [
    {
     "name": "stdout",
     "output_type": "stream",
     "text": [
      "aba\n"
     ]
    }
   ],
   "source": [
    "def ex2(s: str) -> str:\n",
    "    separated = '#'.join(f\"^{s}$\")\n",
    "    n = len(separated)\n",
    "    radiuses = [0] * n\n",
    "    c = 0\n",
    "    r = 0\n",
    "\n",
    "    for i in range (1, n-1):\n",
    "        radiuses[i] = min(r - i, radiuses[2*c - i]) if (r > i) else 0\n",
    "\n",
    "        while separated[i + 1 + radiuses[i]] == separated[i - 1 - radiuses[i]]:\n",
    "            radiuses[i] += 1\n",
    "\n",
    "        if i + radiuses[i] > r:\n",
    "            c, r = i, i + radiuses[i]\n",
    "\n",
    "    maxLen, centerIndex = max((n, i) for i, n in enumerate(radiuses))\n",
    "    return s[(centerIndex  - maxLen)//2: (centerIndex  + maxLen)//2]\n",
    "print(ex2(\"babad\"))"
   ]
  },
  {
   "cell_type": "markdown",
   "id": "5f54b630",
   "metadata": {},
   "source": [
    "# Задание 3"
   ]
  },
  {
   "cell_type": "markdown",
   "id": "566f1d3b",
   "metadata": {},
   "source": [
    "Вернуть количество отдельных непустых подстрок текста, которые могут быть записаны как конкатенация некоторой строки с самой собой (т.е. она может быть записана, как `a + a`, где `a` - некоторая строка)."
   ]
  },
  {
   "cell_type": "markdown",
   "id": "0f734fd8",
   "metadata": {},
   "source": [
    "## Ввод"
   ]
  },
  {
   "cell_type": "markdown",
   "id": "e0be5554",
   "metadata": {},
   "source": [
    "`aabb`"
   ]
  },
  {
   "cell_type": "markdown",
   "id": "ab8eda0b",
   "metadata": {},
   "source": [
    "## Вывод"
   ]
  },
  {
   "cell_type": "markdown",
   "id": "1d716d36",
   "metadata": {},
   "source": [
    "2"
   ]
  },
  {
   "cell_type": "markdown",
   "id": "fcd91349",
   "metadata": {},
   "source": [
    "## Исполняемый код записывать в ячейку ниже"
   ]
  },
  {
   "cell_type": "code",
   "execution_count": 32,
   "id": "be07379d",
   "metadata": {},
   "outputs": [
    {
     "name": "stdout",
     "output_type": "stream",
     "text": [
      "2\n"
     ]
    }
   ],
   "source": [
    "import re\n",
    "\n",
    "def ex3_0(s: str) -> int:\n",
    "    result: set[str] = set()\n",
    "    not_unique_chars_indexes: set[int] = set()\n",
    "    chars_map: dict[str, list[int]] = dict()\n",
    "\n",
    "    for i, char in enumerate(s):\n",
    "        if not char in chars_map:\n",
    "            chars_map[char] = []\n",
    "        else:\n",
    "            not_unique_chars_indexes.add(i)\n",
    "        chars_map[char].append(i)\n",
    "\n",
    "    for i in not_unique_chars_indexes:\n",
    "        char = s[i]\n",
    "        for j in (k for k in chars_map[char] if k < i):\n",
    "            radius = i - j\n",
    "\n",
    "            left_substr = s[i-radius:i]\n",
    "            right_substr = s[i:i+radius]\n",
    "\n",
    "            if left_substr == right_substr:\n",
    "                result.add(left_substr+right_substr)\n",
    "\n",
    "    return len(result)\n",
    "\n",
    "\n",
    "def ex3_1(s: str) -> int:\n",
    "    return len(set(re.findall(\"(?=(.+)\\\\1)\", s)))\n",
    "\n",
    "print(ex3_0(\"aabb\"))"
   ]
  }
 ],
 "metadata": {
  "kernelspec": {
   "display_name": "Python 3 (ipykernel)",
   "language": "python",
   "name": "python3"
  },
  "language_info": {
   "codemirror_mode": {
    "name": "ipython",
    "version": 3
   },
   "file_extension": ".py",
   "mimetype": "text/x-python",
   "name": "python",
   "nbconvert_exporter": "python",
   "pygments_lexer": "ipython3",
   "version": "3.10.2"
  }
 },
 "nbformat": 4,
 "nbformat_minor": 5
}
