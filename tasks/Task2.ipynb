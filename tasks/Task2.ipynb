{
 "cells": [
  {
   "cell_type": "markdown",
   "id": "arctic-stocks",
   "metadata": {},
   "source": [
    "### Задание №1\n",
    "Массив A состоит из целых положительных чисел длин отрезков. Составьте из трех отрезков такой треугольник, чтобы его периметр был максимально возможным. Если невозможно составить треугольник с положительной площадью функция возвращает 0."
   ]
  },
  {
   "cell_type": "code",
   "execution_count": 1,
   "id": "caring-truck",
   "metadata": {
    "scrolled": false
   },
   "outputs": [],
   "source": [
    "def solution1(a: list[int]) -> int:\n",
    "    a.sort()\n",
    "    for i in range(len(a)):\n",
    "        sides_sum: int = a[1-i] + a[2-i]\n",
    "        if sides_sum > a[-i]:\n",
    "            return sides_sum + a[-i]\n",
    "\n",
    "    return 0"
   ]
  },
  {
   "cell_type": "code",
   "execution_count": 2,
   "id": "cec61233",
   "metadata": {},
   "outputs": [
    {
     "name": "stdout",
     "output_type": "stream",
     "text": [
      "Exercise №1 tests successful passed\n"
     ]
    }
   ],
   "source": [
    "tests1: tuple[tuple[list[int], int], ...] = tuple([\n",
    "    ([3, 2, 1, 2], 5),\n",
    "])\n",
    "for test in tests1:\n",
    "    assert solution1(test[0]) == test[1]\n",
    "print(\"Exercise №1 tests successful passed\")"
   ]
  },
  {
   "cell_type": "markdown",
   "id": "maritime-conversation",
   "metadata": {},
   "source": [
    "### Задание №2\n",
    "Дан массив неотрицательных целых чисел nums. Расположите их в таком порядке, чтобы вместе они образовали максимально возможное число. Замечание: Результат может быть очень большим числом, поэтому представьте его как string, а не integer."
   ]
  },
  {
   "cell_type": "code",
   "execution_count": 3,
   "id": "alert-charm",
   "metadata": {
    "scrolled": false
   },
   "outputs": [
    {
     "name": "stdout",
     "output_type": "stream",
     "text": [
      "Exercise №2 tests successful passed\n"
     ]
    }
   ],
   "source": [
    "from functools import cmp_to_key\n",
    "def solution2(a: list[int]) -> str:\n",
    "    res: list[str] = sorted(\n",
    "        map(str, a),\n",
    "        key=cmp_to_key(comparator),\n",
    "        reverse=True\n",
    "    )\n",
    "\n",
    "    return \"\".join(res)\n",
    "def comparator(a: str, b: str) -> int:\n",
    "    if a + b >= b + a:\n",
    "        return 1\n",
    "    return -1\n",
    "tests2: tuple[tuple[list[int], str], ...] = tuple([\n",
    "    ([2, 10], \"210\"),\n",
    "    ([10, 2], \"210\"),\n",
    "])\n",
    "for test in tests2:\n",
    "    res = solution2(test[0])\n",
    "    assert res == test[1], f\"{test=}, {res=}\"\n",
    "print(\"Exercise №2 tests successful passed\")"
   ]
  },
  {
   "cell_type": "markdown",
   "id": "catholic-roots",
   "metadata": {},
   "source": [
    "### Задание №3\n",
    "Дана матрица mat размером m * n, значения целочисленные. Напишите функцию, сортирующую каждую диагональ матрицы по возрастанию и возвращающую получившуюся матрицу."
   ]
  },
  {
   "cell_type": "code",
   "execution_count": 4,
   "id": "cleared-anniversary",
   "metadata": {
    "scrolled": false
   },
   "outputs": [
    {
     "name": "stdout",
     "output_type": "stream",
     "text": [
      "Exercise №3 tests successful passed\n"
     ]
    }
   ],
   "source": [
    "def solution3(a: list[list[int]]) -> list[list[int]]:\n",
    "    m: int = len(a)\n",
    "    n: int = len(a[0])\n",
    "    min_diag_index: int = 1 - m\n",
    "\n",
    "    diags = _get_diags(a, m, n)\n",
    "    for d in diags:\n",
    "        d.sort()\n",
    "\n",
    "    for i, diag in enumerate(diags):\n",
    "        for j, num in enumerate(diag):\n",
    "            row_num: int = j if i > len(diag) // 2 else j + (m - len(diag))\n",
    "            col_num: int = i + row_num + min_diag_index\n",
    "            a[row_num][col_num] = num\n",
    "\n",
    "    return a\n",
    "def _get_diags(a: list[list[int]], rows: int, clumns: int) -> list[list[int]]:\n",
    "    min_diag_index: int = 1 - rows\n",
    "\n",
    "    diags = [[] for _ in range(rows + clumns - 1)]\n",
    "    for i in range(clumns):\n",
    "        for j in range(rows):\n",
    "            diags[i-j-min_diag_index].append(a[j][i])\n",
    "\n",
    "    return diags\n",
    "tests3: tuple[tuple[list[list[int]], list[list[int]]], ...] = tuple([\n",
    "    (\n",
    "        [\n",
    "            [3, 4, 7, 2],\n",
    "            [3, 5, 8, 1],\n",
    "            [6, 7, 9, 0]\n",
    "        ],\n",
    "        [\n",
    "            [3, 0, 1, 2],\n",
    "            [3, 5, 4, 7],\n",
    "            [6, 7, 9, 8]\n",
    "        ]\n",
    "    ),\n",
    "])\n",
    "for test in tests3:\n",
    "    assert solution3(test[0]) == test[1]\n",
    "print(\"Exercise №3 tests successful passed\")"
   ]
  },
  {
   "cell_type": "code",
   "execution_count": null,
   "id": "803f80d7",
   "metadata": {},
   "outputs": [],
   "source": []
  }
 ],
 "metadata": {
  "kernelspec": {
   "display_name": "Python 3 (ipykernel)",
   "language": "python",
   "name": "python3"
  },
  "language_info": {
   "codemirror_mode": {
    "name": "ipython",
    "version": 3
   },
   "file_extension": ".py",
   "mimetype": "text/x-python",
   "name": "python",
   "nbconvert_exporter": "python",
   "pygments_lexer": "ipython3",
   "version": "3.10.2"
  }
 },
 "nbformat": 4,
 "nbformat_minor": 5
}
